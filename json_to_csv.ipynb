{
 "cells": [
  {
   "cell_type": "markdown",
   "metadata": {},
   "source": [
    "# Unstructured JSON to .csv"
   ]
  },
  {
   "cell_type": "markdown",
   "metadata": {},
   "source": [
    "## Dependencies"
   ]
  },
  {
   "cell_type": "code",
   "execution_count": 7,
   "metadata": {},
   "outputs": [],
   "source": [
    "import json\n",
    "import pandas as pd"
   ]
  },
  {
   "cell_type": "markdown",
   "metadata": {},
   "source": [
    "## Reading Dataset"
   ]
  },
  {
   "cell_type": "code",
   "execution_count": 16,
   "metadata": {},
   "outputs": [],
   "source": [
    "json_path = 'data/instances_test_nogt.json'\n",
    "with open(json_path) as json_file:\n",
    "    json_data = json.load(json_file)"
   ]
  },
  {
   "cell_type": "markdown",
   "metadata": {},
   "source": [
    "### Examples"
   ]
  },
  {
   "cell_type": "code",
   "execution_count": 12,
   "metadata": {},
   "outputs": [],
   "source": [
    "json_paths = [\n",
    "    'data/instances_train.json',\n",
    "    'data/instances_val.json',\n",
    "    'data/instances_test_nogt.json'\n",
    "]"
   ]
  },
  {
   "cell_type": "code",
   "execution_count": 18,
   "metadata": {},
   "outputs": [
    {
     "data": {
      "text/plain": [
       "{'year': '2022',\n",
       " 'version': '2',\n",
       " 'description': '',\n",
       " 'contributor': '',\n",
       " 'url': 'localhost',\n",
       " 'date_created': '2022-08-15T15:17:20.683314'}"
      ]
     },
     "execution_count": 18,
     "metadata": {},
     "output_type": "execute_result"
    }
   ],
   "source": [
    "json_data['info']"
   ]
  },
  {
   "cell_type": "code",
   "execution_count": 19,
   "metadata": {},
   "outputs": [
    {
     "data": {
      "text/plain": [
       "[{'id': 1, 'url': '', 'name': 'Unknown'}]"
      ]
     },
     "execution_count": 19,
     "metadata": {},
     "output_type": "execute_result"
    }
   ],
   "source": [
    "json_data['licenses']"
   ]
  },
  {
   "cell_type": "code",
   "execution_count": 20,
   "metadata": {},
   "outputs": [
    {
     "data": {
      "text/plain": [
       "[{'supercategory': 'ignored', 'id': 0, 'name': 'ignored'},\n",
       " {'supercategory': 'person', 'id': 1, 'name': 'swimmer'},\n",
       " {'supercategory': 'boat', 'id': 2, 'name': 'boat'},\n",
       " {'supercategory': 'boat', 'id': 3, 'name': 'jetski'},\n",
       " {'supercategory': 'object', 'id': 4, 'name': 'life_saving_appliances'},\n",
       " {'supercategory': 'object', 'id': 5, 'name': 'buoy'}]"
      ]
     },
     "execution_count": 20,
     "metadata": {},
     "output_type": "execute_result"
    }
   ],
   "source": [
    "json_data['categories']"
   ]
  },
  {
   "cell_type": "code",
   "execution_count": 21,
   "metadata": {},
   "outputs": [
    {
     "data": {
      "text/plain": [
       "{'id': 4055,\n",
       " 'file_name': '4055.png',\n",
       " 'height': 2160,\n",
       " 'width': 3840,\n",
       " 'source': 'mavic',\n",
       " 'date_time': '',\n",
       " 'meta': {'image_name': '',\n",
       "  'datetime(utc)': '',\n",
       "  'latitude': '',\n",
       "  'longitude': '',\n",
       "  'height_above_takeoff(meter)': 17.19916123133191,\n",
       "  'speed(m/s)': 0.0,\n",
       "  'xspeed(m/s)': 0.0,\n",
       "  'yspeed(m/s)': 0.0,\n",
       "  'zspeed(m/s)': 0.0,\n",
       "  'compass_heading(degrees)': 280.9,\n",
       "  'gimbal_heading(degrees)': 271.4,\n",
       "  'gimbal_pitch(degrees)': 1.6,\n",
       "  'date_time': ''}}"
      ]
     },
     "execution_count": 21,
     "metadata": {},
     "output_type": "execute_result"
    }
   ],
   "source": [
    "json_data['images'][0]"
   ]
  },
  {
   "cell_type": "code",
   "execution_count": 23,
   "metadata": {},
   "outputs": [
    {
     "ename": "IndexError",
     "evalue": "list index out of range",
     "output_type": "error",
     "traceback": [
      "\u001b[0;31m---------------------------------------------------------------------------\u001b[0m",
      "\u001b[0;31mIndexError\u001b[0m                                Traceback (most recent call last)",
      "Cell \u001b[0;32mIn[23], line 1\u001b[0m\n\u001b[0;32m----> 1\u001b[0m json_data[\u001b[39m'\u001b[39;49m\u001b[39mannotations\u001b[39;49m\u001b[39m'\u001b[39;49m][\u001b[39m0\u001b[39;49m]\n",
      "\u001b[0;31mIndexError\u001b[0m: list index out of range"
     ]
    }
   ],
   "source": [
    "json_data['annotations'][0]"
   ]
  },
  {
   "cell_type": "code",
   "execution_count": null,
   "metadata": {},
   "outputs": [],
   "source": [
    "json_data['annotations'][1]"
   ]
  },
  {
   "cell_type": "code",
   "execution_count": null,
   "metadata": {},
   "outputs": [],
   "source": [
    "json_data['videos'][0]"
   ]
  },
  {
   "cell_type": "code",
   "execution_count": null,
   "metadata": {},
   "outputs": [],
   "source": [
    "json_data['tracks'][0]"
   ]
  },
  {
   "cell_type": "markdown",
   "metadata": {},
   "source": [
    "## Converting to csv"
   ]
  },
  {
   "cell_type": "markdown",
   "metadata": {},
   "source": [
    "### Image metadata Dataset"
   ]
  },
  {
   "cell_type": "code",
   "execution_count": null,
   "metadata": {},
   "outputs": [],
   "source": [
    "# create a pandas dataframe from the json key 'images'\n",
    "df_img = pd.DataFrame(json_data['images'])\n",
    "df_img.head()"
   ]
  },
  {
   "cell_type": "code",
   "execution_count": null,
   "metadata": {},
   "outputs": [],
   "source": [
    "# now expand the column 'source'\n",
    "df_img = pd.concat([df_img.drop(['source'], axis=1), df_img['source'].apply(pd.Series)], axis=1)\n",
    "df_img.head()"
   ]
  },
  {
   "cell_type": "code",
   "execution_count": null,
   "metadata": {},
   "outputs": [],
   "source": [
    "# now expand the column 'meta'\n",
    "df_img = pd.concat([df_img.drop(['meta'], axis=1), df_img['meta'].apply(pd.Series)], axis=1)\n",
    "df_img.head()"
   ]
  },
  {
   "cell_type": "code",
   "execution_count": null,
   "metadata": {},
   "outputs": [],
   "source": [
    "# check the type of the columns\n",
    "df_img.info()"
   ]
  },
  {
   "cell_type": "code",
   "execution_count": null,
   "metadata": {},
   "outputs": [],
   "source": [
    "# save the dataframe as a csv file\n",
    "df_img.to_csv('data/instances_train_swimmer_images.csv', index=False)"
   ]
  },
  {
   "cell_type": "markdown",
   "metadata": {},
   "source": [
    "## Annotations Dataset"
   ]
  },
  {
   "cell_type": "code",
   "execution_count": null,
   "metadata": {},
   "outputs": [],
   "source": [
    "# create a pandas dataframe from the json key 'annotations'\n",
    "df_ann = pd.DataFrame(json_data['annotations'])\n",
    "df_ann.head()"
   ]
  },
  {
   "cell_type": "code",
   "execution_count": null,
   "metadata": {},
   "outputs": [],
   "source": [
    "# now expand the column 'bbox' (it's a list\n",
    "df_ann = pd.concat([df_ann.drop(['bbox'], axis=1), df_ann['bbox'].apply(pd.Series)], axis=1)\n",
    "df_ann.rename(columns={0: 'bbox_x', 1: 'bbox_y', 2: 'bbox_w', 3: 'bbox_h'}, inplace=True)\n",
    "df_ann.head()"
   ]
  },
  {
   "cell_type": "code",
   "execution_count": null,
   "metadata": {},
   "outputs": [],
   "source": [
    "# check the type of the columns\n",
    "df_ann.info()"
   ]
  },
  {
   "cell_type": "code",
   "execution_count": null,
   "metadata": {},
   "outputs": [],
   "source": [
    "# save the dataframe as a csv file\n",
    "df_ann.to_csv('data/instances_train_swimmer_annotations.csv', index=False)"
   ]
  }
 ],
 "metadata": {
  "kernelspec": {
   "display_name": "ai-env",
   "language": "python",
   "name": "python3"
  },
  "language_info": {
   "codemirror_mode": {
    "name": "ipython",
    "version": 3
   },
   "file_extension": ".py",
   "mimetype": "text/x-python",
   "name": "python",
   "nbconvert_exporter": "python",
   "pygments_lexer": "ipython3",
   "version": "3.10.6"
  },
  "orig_nbformat": 4
 },
 "nbformat": 4,
 "nbformat_minor": 2
}
