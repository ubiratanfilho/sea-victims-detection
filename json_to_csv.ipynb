{
 "cells": [
  {
   "cell_type": "markdown",
   "metadata": {},
   "source": [
    "# Unstructured JSON to .csv"
   ]
  },
  {
   "cell_type": "markdown",
   "metadata": {},
   "source": [
    "## Dependencies"
   ]
  },
  {
   "cell_type": "code",
   "execution_count": 21,
   "metadata": {},
   "outputs": [],
   "source": [
    "import json\n",
    "import pandas as pd"
   ]
  },
  {
   "cell_type": "markdown",
   "metadata": {},
   "source": [
    "## Reading Dataset"
   ]
  },
  {
   "cell_type": "markdown",
   "metadata": {},
   "source": [
    "### Examples"
   ]
  },
  {
   "cell_type": "code",
   "execution_count": 22,
   "metadata": {},
   "outputs": [
    {
     "name": "stdout",
     "output_type": "stream",
     "text": [
      "dict_keys(['info', 'licenses', 'categories', 'images', 'annotations', 'videos', 'tracks'])\n"
     ]
    }
   ],
   "source": [
    "json_path = 'data\\sample\\instances_train_swimmer.json'\n",
    "with open(json_path, 'r') as f:\n",
    "    json_data = json.load(f)\n",
    "\n",
    "print(json_data.keys())"
   ]
  },
  {
   "cell_type": "code",
   "execution_count": 23,
   "metadata": {},
   "outputs": [
    {
     "data": {
      "text/plain": [
       "{'year': '2021',\n",
       " 'version': '1',\n",
       " 'description': '',\n",
       " 'contributor': '',\n",
       " 'url': 'localhost',\n",
       " 'date_created': '2021-03-10T16:59:51.049774'}"
      ]
     },
     "execution_count": 23,
     "metadata": {},
     "output_type": "execute_result"
    }
   ],
   "source": [
    "json_data['info']"
   ]
  },
  {
   "cell_type": "code",
   "execution_count": 24,
   "metadata": {},
   "outputs": [
    {
     "data": {
      "text/plain": [
       "[{'id': 1, 'url': '', 'name': 'Unknown'}]"
      ]
     },
     "execution_count": 24,
     "metadata": {},
     "output_type": "execute_result"
    }
   ],
   "source": [
    "json_data['licenses']"
   ]
  },
  {
   "cell_type": "code",
   "execution_count": 25,
   "metadata": {},
   "outputs": [
    {
     "data": {
      "text/plain": [
       "[{'supercategory': 'person', 'id': 1, 'name': 'swimmer'},\n",
       " {'supercategory': 'person', 'id': 2, 'name': 'swimmer with life jacket'}]"
      ]
     },
     "execution_count": 25,
     "metadata": {},
     "output_type": "execute_result"
    }
   ],
   "source": [
    "json_data['categories']"
   ]
  },
  {
   "cell_type": "code",
   "execution_count": 26,
   "metadata": {},
   "outputs": [
    {
     "data": {
      "text/plain": [
       "{'id': 0,\n",
       " 'file_name': '0.png',\n",
       " 'height': 2160,\n",
       " 'width': 3840,\n",
       " 'source': {'drone': 'mavic',\n",
       "  'folder_name': 'DJI_0057',\n",
       "  'video': 'DJI_0057.MP4',\n",
       "  'frame_no': 0},\n",
       " 'video_id': 0,\n",
       " 'frame_index': 0,\n",
       " 'date_time': '2020-08-27T14:18:12',\n",
       " 'meta': {'date_time': '2020-08-27T12:18:12',\n",
       "  'gps_latitude': 47.671755,\n",
       "  'gps_latitude_ref': 'N',\n",
       "  'gps_longitude': 9.269907,\n",
       "  'gps_longitude_ref': 'E',\n",
       "  'altitude': 11.299448948491314,\n",
       "  'gimbal_pitch': 45.4,\n",
       "  'compass_heading': 319.3,\n",
       "  'gimbal_heading': 322.4,\n",
       "  'speed': 2.3429371569065713,\n",
       "  'xspeed': 1.7999517210549845,\n",
       "  'yspeed': -1.4999597675458203,\n",
       "  'zspeed': 0.0}}"
      ]
     },
     "execution_count": 26,
     "metadata": {},
     "output_type": "execute_result"
    }
   ],
   "source": [
    "json_data['images'][0]"
   ]
  },
  {
   "cell_type": "code",
   "execution_count": 27,
   "metadata": {},
   "outputs": [
    {
     "data": {
      "text/plain": [
       "{'id': 0,\n",
       " 'image_id': 0,\n",
       " 'bbox': [1783, 1079, 186, 249],\n",
       " 'area': 46314,\n",
       " 'category_id': 2,\n",
       " 'video_id': 0,\n",
       " 'track_id': 0}"
      ]
     },
     "execution_count": 27,
     "metadata": {},
     "output_type": "execute_result"
    }
   ],
   "source": [
    "json_data['annotations'][0]"
   ]
  },
  {
   "cell_type": "code",
   "execution_count": 28,
   "metadata": {},
   "outputs": [
    {
     "data": {
      "text/plain": [
       "{'id': 1,\n",
       " 'image_id': 0,\n",
       " 'bbox': [1547, 694, 271, 175],\n",
       " 'area': 47425,\n",
       " 'category_id': 2,\n",
       " 'video_id': 0,\n",
       " 'track_id': 1}"
      ]
     },
     "execution_count": 28,
     "metadata": {},
     "output_type": "execute_result"
    }
   ],
   "source": [
    "json_data['annotations'][1]"
   ]
  },
  {
   "cell_type": "code",
   "execution_count": 29,
   "metadata": {},
   "outputs": [
    {
     "data": {
      "text/plain": [
       "{'id': 0,\n",
       " 'height': 2160,\n",
       " 'width': 3840,\n",
       " 'name:': '/data/input/recordings/mavic/DJI_0057.MP4'}"
      ]
     },
     "execution_count": 29,
     "metadata": {},
     "output_type": "execute_result"
    }
   ],
   "source": [
    "json_data['videos'][0]"
   ]
  },
  {
   "cell_type": "code",
   "execution_count": 30,
   "metadata": {},
   "outputs": [
    {
     "data": {
      "text/plain": [
       "{'id': 0, 'category_id': 2, 'video_id': 0}"
      ]
     },
     "execution_count": 30,
     "metadata": {},
     "output_type": "execute_result"
    }
   ],
   "source": [
    "json_data['tracks'][0]"
   ]
  },
  {
   "cell_type": "markdown",
   "metadata": {},
   "source": [
    "## Converting to csv"
   ]
  },
  {
   "cell_type": "markdown",
   "metadata": {},
   "source": [
    "### Image metadata Dataset"
   ]
  },
  {
   "cell_type": "code",
   "execution_count": 31,
   "metadata": {},
   "outputs": [
    {
     "data": {
      "text/html": [
       "<div>\n",
       "<style scoped>\n",
       "    .dataframe tbody tr th:only-of-type {\n",
       "        vertical-align: middle;\n",
       "    }\n",
       "\n",
       "    .dataframe tbody tr th {\n",
       "        vertical-align: top;\n",
       "    }\n",
       "\n",
       "    .dataframe thead th {\n",
       "        text-align: right;\n",
       "    }\n",
       "</style>\n",
       "<table border=\"1\" class=\"dataframe\">\n",
       "  <thead>\n",
       "    <tr style=\"text-align: right;\">\n",
       "      <th></th>\n",
       "      <th>id</th>\n",
       "      <th>file_name</th>\n",
       "      <th>height</th>\n",
       "      <th>width</th>\n",
       "      <th>source</th>\n",
       "      <th>video_id</th>\n",
       "      <th>frame_index</th>\n",
       "      <th>date_time</th>\n",
       "      <th>meta</th>\n",
       "    </tr>\n",
       "  </thead>\n",
       "  <tbody>\n",
       "    <tr>\n",
       "      <th>0</th>\n",
       "      <td>0</td>\n",
       "      <td>0.png</td>\n",
       "      <td>2160</td>\n",
       "      <td>3840</td>\n",
       "      <td>{'drone': 'mavic', 'folder_name': 'DJI_0057', ...</td>\n",
       "      <td>0</td>\n",
       "      <td>0</td>\n",
       "      <td>2020-08-27T14:18:12</td>\n",
       "      <td>{'date_time': '2020-08-27T12:18:12', 'gps_lati...</td>\n",
       "    </tr>\n",
       "    <tr>\n",
       "      <th>1</th>\n",
       "      <td>1</td>\n",
       "      <td>1.png</td>\n",
       "      <td>2160</td>\n",
       "      <td>3840</td>\n",
       "      <td>{'drone': 'mavic', 'folder_name': 'DJI_0057', ...</td>\n",
       "      <td>0</td>\n",
       "      <td>1</td>\n",
       "      <td>2020-08-27T14:18:12</td>\n",
       "      <td>{'date_time': '2020-08-27T12:18:12', 'gps_lati...</td>\n",
       "    </tr>\n",
       "    <tr>\n",
       "      <th>2</th>\n",
       "      <td>2</td>\n",
       "      <td>2.png</td>\n",
       "      <td>2160</td>\n",
       "      <td>3840</td>\n",
       "      <td>{'drone': 'mavic', 'folder_name': 'DJI_0057', ...</td>\n",
       "      <td>0</td>\n",
       "      <td>2</td>\n",
       "      <td>2020-08-27T14:18:12.033367</td>\n",
       "      <td>{'date_time': '2020-08-27T12:18:12', 'gps_lati...</td>\n",
       "    </tr>\n",
       "    <tr>\n",
       "      <th>3</th>\n",
       "      <td>3</td>\n",
       "      <td>3.png</td>\n",
       "      <td>2160</td>\n",
       "      <td>3840</td>\n",
       "      <td>{'drone': 'mavic', 'folder_name': 'DJI_0057', ...</td>\n",
       "      <td>0</td>\n",
       "      <td>3</td>\n",
       "      <td>2020-08-27T14:18:12.066733</td>\n",
       "      <td>{'date_time': '2020-08-27T12:18:12', 'gps_lati...</td>\n",
       "    </tr>\n",
       "    <tr>\n",
       "      <th>4</th>\n",
       "      <td>4</td>\n",
       "      <td>4.png</td>\n",
       "      <td>2160</td>\n",
       "      <td>3840</td>\n",
       "      <td>{'drone': 'mavic', 'folder_name': 'DJI_0057', ...</td>\n",
       "      <td>0</td>\n",
       "      <td>4</td>\n",
       "      <td>2020-08-27T14:18:12.100100</td>\n",
       "      <td>{'date_time': '2020-08-27T12:18:12', 'gps_lati...</td>\n",
       "    </tr>\n",
       "  </tbody>\n",
       "</table>\n",
       "</div>"
      ],
      "text/plain": [
       "   id file_name  height  width  \\\n",
       "0   0     0.png    2160   3840   \n",
       "1   1     1.png    2160   3840   \n",
       "2   2     2.png    2160   3840   \n",
       "3   3     3.png    2160   3840   \n",
       "4   4     4.png    2160   3840   \n",
       "\n",
       "                                              source  video_id  frame_index  \\\n",
       "0  {'drone': 'mavic', 'folder_name': 'DJI_0057', ...         0            0   \n",
       "1  {'drone': 'mavic', 'folder_name': 'DJI_0057', ...         0            1   \n",
       "2  {'drone': 'mavic', 'folder_name': 'DJI_0057', ...         0            2   \n",
       "3  {'drone': 'mavic', 'folder_name': 'DJI_0057', ...         0            3   \n",
       "4  {'drone': 'mavic', 'folder_name': 'DJI_0057', ...         0            4   \n",
       "\n",
       "                    date_time  \\\n",
       "0         2020-08-27T14:18:12   \n",
       "1         2020-08-27T14:18:12   \n",
       "2  2020-08-27T14:18:12.033367   \n",
       "3  2020-08-27T14:18:12.066733   \n",
       "4  2020-08-27T14:18:12.100100   \n",
       "\n",
       "                                                meta  \n",
       "0  {'date_time': '2020-08-27T12:18:12', 'gps_lati...  \n",
       "1  {'date_time': '2020-08-27T12:18:12', 'gps_lati...  \n",
       "2  {'date_time': '2020-08-27T12:18:12', 'gps_lati...  \n",
       "3  {'date_time': '2020-08-27T12:18:12', 'gps_lati...  \n",
       "4  {'date_time': '2020-08-27T12:18:12', 'gps_lati...  "
      ]
     },
     "execution_count": 31,
     "metadata": {},
     "output_type": "execute_result"
    }
   ],
   "source": [
    "# create a pandas dataframe from the json key 'images'\n",
    "df_img = pd.DataFrame(json_data['images'])\n",
    "df_img.head()"
   ]
  },
  {
   "cell_type": "code",
   "execution_count": 32,
   "metadata": {},
   "outputs": [
    {
     "data": {
      "text/html": [
       "<div>\n",
       "<style scoped>\n",
       "    .dataframe tbody tr th:only-of-type {\n",
       "        vertical-align: middle;\n",
       "    }\n",
       "\n",
       "    .dataframe tbody tr th {\n",
       "        vertical-align: top;\n",
       "    }\n",
       "\n",
       "    .dataframe thead th {\n",
       "        text-align: right;\n",
       "    }\n",
       "</style>\n",
       "<table border=\"1\" class=\"dataframe\">\n",
       "  <thead>\n",
       "    <tr style=\"text-align: right;\">\n",
       "      <th></th>\n",
       "      <th>id</th>\n",
       "      <th>file_name</th>\n",
       "      <th>height</th>\n",
       "      <th>width</th>\n",
       "      <th>video_id</th>\n",
       "      <th>frame_index</th>\n",
       "      <th>date_time</th>\n",
       "      <th>meta</th>\n",
       "      <th>drone</th>\n",
       "      <th>folder_name</th>\n",
       "      <th>video</th>\n",
       "      <th>frame_no</th>\n",
       "    </tr>\n",
       "  </thead>\n",
       "  <tbody>\n",
       "    <tr>\n",
       "      <th>0</th>\n",
       "      <td>0</td>\n",
       "      <td>0.png</td>\n",
       "      <td>2160</td>\n",
       "      <td>3840</td>\n",
       "      <td>0</td>\n",
       "      <td>0</td>\n",
       "      <td>2020-08-27T14:18:12</td>\n",
       "      <td>{'date_time': '2020-08-27T12:18:12', 'gps_lati...</td>\n",
       "      <td>mavic</td>\n",
       "      <td>DJI_0057</td>\n",
       "      <td>DJI_0057.MP4</td>\n",
       "      <td>0</td>\n",
       "    </tr>\n",
       "    <tr>\n",
       "      <th>1</th>\n",
       "      <td>1</td>\n",
       "      <td>1.png</td>\n",
       "      <td>2160</td>\n",
       "      <td>3840</td>\n",
       "      <td>0</td>\n",
       "      <td>1</td>\n",
       "      <td>2020-08-27T14:18:12</td>\n",
       "      <td>{'date_time': '2020-08-27T12:18:12', 'gps_lati...</td>\n",
       "      <td>mavic</td>\n",
       "      <td>DJI_0057</td>\n",
       "      <td>DJI_0057.MP4</td>\n",
       "      <td>1</td>\n",
       "    </tr>\n",
       "    <tr>\n",
       "      <th>2</th>\n",
       "      <td>2</td>\n",
       "      <td>2.png</td>\n",
       "      <td>2160</td>\n",
       "      <td>3840</td>\n",
       "      <td>0</td>\n",
       "      <td>2</td>\n",
       "      <td>2020-08-27T14:18:12.033367</td>\n",
       "      <td>{'date_time': '2020-08-27T12:18:12', 'gps_lati...</td>\n",
       "      <td>mavic</td>\n",
       "      <td>DJI_0057</td>\n",
       "      <td>DJI_0057.MP4</td>\n",
       "      <td>2</td>\n",
       "    </tr>\n",
       "    <tr>\n",
       "      <th>3</th>\n",
       "      <td>3</td>\n",
       "      <td>3.png</td>\n",
       "      <td>2160</td>\n",
       "      <td>3840</td>\n",
       "      <td>0</td>\n",
       "      <td>3</td>\n",
       "      <td>2020-08-27T14:18:12.066733</td>\n",
       "      <td>{'date_time': '2020-08-27T12:18:12', 'gps_lati...</td>\n",
       "      <td>mavic</td>\n",
       "      <td>DJI_0057</td>\n",
       "      <td>DJI_0057.MP4</td>\n",
       "      <td>3</td>\n",
       "    </tr>\n",
       "    <tr>\n",
       "      <th>4</th>\n",
       "      <td>4</td>\n",
       "      <td>4.png</td>\n",
       "      <td>2160</td>\n",
       "      <td>3840</td>\n",
       "      <td>0</td>\n",
       "      <td>4</td>\n",
       "      <td>2020-08-27T14:18:12.100100</td>\n",
       "      <td>{'date_time': '2020-08-27T12:18:12', 'gps_lati...</td>\n",
       "      <td>mavic</td>\n",
       "      <td>DJI_0057</td>\n",
       "      <td>DJI_0057.MP4</td>\n",
       "      <td>4</td>\n",
       "    </tr>\n",
       "  </tbody>\n",
       "</table>\n",
       "</div>"
      ],
      "text/plain": [
       "   id file_name  height  width  video_id  frame_index  \\\n",
       "0   0     0.png    2160   3840         0            0   \n",
       "1   1     1.png    2160   3840         0            1   \n",
       "2   2     2.png    2160   3840         0            2   \n",
       "3   3     3.png    2160   3840         0            3   \n",
       "4   4     4.png    2160   3840         0            4   \n",
       "\n",
       "                    date_time  \\\n",
       "0         2020-08-27T14:18:12   \n",
       "1         2020-08-27T14:18:12   \n",
       "2  2020-08-27T14:18:12.033367   \n",
       "3  2020-08-27T14:18:12.066733   \n",
       "4  2020-08-27T14:18:12.100100   \n",
       "\n",
       "                                                meta  drone folder_name  \\\n",
       "0  {'date_time': '2020-08-27T12:18:12', 'gps_lati...  mavic    DJI_0057   \n",
       "1  {'date_time': '2020-08-27T12:18:12', 'gps_lati...  mavic    DJI_0057   \n",
       "2  {'date_time': '2020-08-27T12:18:12', 'gps_lati...  mavic    DJI_0057   \n",
       "3  {'date_time': '2020-08-27T12:18:12', 'gps_lati...  mavic    DJI_0057   \n",
       "4  {'date_time': '2020-08-27T12:18:12', 'gps_lati...  mavic    DJI_0057   \n",
       "\n",
       "          video  frame_no  \n",
       "0  DJI_0057.MP4         0  \n",
       "1  DJI_0057.MP4         1  \n",
       "2  DJI_0057.MP4         2  \n",
       "3  DJI_0057.MP4         3  \n",
       "4  DJI_0057.MP4         4  "
      ]
     },
     "execution_count": 32,
     "metadata": {},
     "output_type": "execute_result"
    }
   ],
   "source": [
    "# now expand the column 'source'\n",
    "df_img = pd.concat([df_img.drop(['source'], axis=1), df_img['source'].apply(pd.Series)], axis=1)\n",
    "df_img.head()"
   ]
  },
  {
   "cell_type": "code",
   "execution_count": 33,
   "metadata": {},
   "outputs": [
    {
     "data": {
      "text/html": [
       "<div>\n",
       "<style scoped>\n",
       "    .dataframe tbody tr th:only-of-type {\n",
       "        vertical-align: middle;\n",
       "    }\n",
       "\n",
       "    .dataframe tbody tr th {\n",
       "        vertical-align: top;\n",
       "    }\n",
       "\n",
       "    .dataframe thead th {\n",
       "        text-align: right;\n",
       "    }\n",
       "</style>\n",
       "<table border=\"1\" class=\"dataframe\">\n",
       "  <thead>\n",
       "    <tr style=\"text-align: right;\">\n",
       "      <th></th>\n",
       "      <th>id</th>\n",
       "      <th>file_name</th>\n",
       "      <th>height</th>\n",
       "      <th>width</th>\n",
       "      <th>video_id</th>\n",
       "      <th>frame_index</th>\n",
       "      <th>date_time</th>\n",
       "      <th>drone</th>\n",
       "      <th>folder_name</th>\n",
       "      <th>video</th>\n",
       "      <th>...</th>\n",
       "      <th>gps_longitude</th>\n",
       "      <th>gps_longitude_ref</th>\n",
       "      <th>altitude</th>\n",
       "      <th>gimbal_pitch</th>\n",
       "      <th>compass_heading</th>\n",
       "      <th>gimbal_heading</th>\n",
       "      <th>speed</th>\n",
       "      <th>xspeed</th>\n",
       "      <th>yspeed</th>\n",
       "      <th>zspeed</th>\n",
       "    </tr>\n",
       "  </thead>\n",
       "  <tbody>\n",
       "    <tr>\n",
       "      <th>0</th>\n",
       "      <td>0</td>\n",
       "      <td>0.png</td>\n",
       "      <td>2160</td>\n",
       "      <td>3840</td>\n",
       "      <td>0</td>\n",
       "      <td>0</td>\n",
       "      <td>2020-08-27T14:18:12</td>\n",
       "      <td>mavic</td>\n",
       "      <td>DJI_0057</td>\n",
       "      <td>DJI_0057.MP4</td>\n",
       "      <td>...</td>\n",
       "      <td>9.269907</td>\n",
       "      <td>E</td>\n",
       "      <td>11.299449</td>\n",
       "      <td>45.4</td>\n",
       "      <td>319.3</td>\n",
       "      <td>322.4</td>\n",
       "      <td>2.342937</td>\n",
       "      <td>1.799952</td>\n",
       "      <td>-1.499960</td>\n",
       "      <td>0.0</td>\n",
       "    </tr>\n",
       "    <tr>\n",
       "      <th>1</th>\n",
       "      <td>1</td>\n",
       "      <td>1.png</td>\n",
       "      <td>2160</td>\n",
       "      <td>3840</td>\n",
       "      <td>0</td>\n",
       "      <td>1</td>\n",
       "      <td>2020-08-27T14:18:12</td>\n",
       "      <td>mavic</td>\n",
       "      <td>DJI_0057</td>\n",
       "      <td>DJI_0057.MP4</td>\n",
       "      <td>...</td>\n",
       "      <td>9.269906</td>\n",
       "      <td>E</td>\n",
       "      <td>11.299449</td>\n",
       "      <td>45.4</td>\n",
       "      <td>319.4</td>\n",
       "      <td>322.4</td>\n",
       "      <td>2.701928</td>\n",
       "      <td>2.099944</td>\n",
       "      <td>-1.699954</td>\n",
       "      <td>0.0</td>\n",
       "    </tr>\n",
       "    <tr>\n",
       "      <th>2</th>\n",
       "      <td>2</td>\n",
       "      <td>2.png</td>\n",
       "      <td>2160</td>\n",
       "      <td>3840</td>\n",
       "      <td>0</td>\n",
       "      <td>2</td>\n",
       "      <td>2020-08-27T14:18:12.033367</td>\n",
       "      <td>mavic</td>\n",
       "      <td>DJI_0057</td>\n",
       "      <td>DJI_0057.MP4</td>\n",
       "      <td>...</td>\n",
       "      <td>9.269906</td>\n",
       "      <td>E</td>\n",
       "      <td>11.299449</td>\n",
       "      <td>45.4</td>\n",
       "      <td>319.4</td>\n",
       "      <td>322.4</td>\n",
       "      <td>2.701928</td>\n",
       "      <td>2.099944</td>\n",
       "      <td>-1.699954</td>\n",
       "      <td>0.0</td>\n",
       "    </tr>\n",
       "    <tr>\n",
       "      <th>3</th>\n",
       "      <td>3</td>\n",
       "      <td>3.png</td>\n",
       "      <td>2160</td>\n",
       "      <td>3840</td>\n",
       "      <td>0</td>\n",
       "      <td>3</td>\n",
       "      <td>2020-08-27T14:18:12.066733</td>\n",
       "      <td>mavic</td>\n",
       "      <td>DJI_0057</td>\n",
       "      <td>DJI_0057.MP4</td>\n",
       "      <td>...</td>\n",
       "      <td>9.269906</td>\n",
       "      <td>E</td>\n",
       "      <td>11.299449</td>\n",
       "      <td>45.4</td>\n",
       "      <td>319.4</td>\n",
       "      <td>322.4</td>\n",
       "      <td>2.701928</td>\n",
       "      <td>2.099944</td>\n",
       "      <td>-1.699954</td>\n",
       "      <td>0.0</td>\n",
       "    </tr>\n",
       "    <tr>\n",
       "      <th>4</th>\n",
       "      <td>4</td>\n",
       "      <td>4.png</td>\n",
       "      <td>2160</td>\n",
       "      <td>3840</td>\n",
       "      <td>0</td>\n",
       "      <td>4</td>\n",
       "      <td>2020-08-27T14:18:12.100100</td>\n",
       "      <td>mavic</td>\n",
       "      <td>DJI_0057</td>\n",
       "      <td>DJI_0057.MP4</td>\n",
       "      <td>...</td>\n",
       "      <td>9.269903</td>\n",
       "      <td>E</td>\n",
       "      <td>11.199454</td>\n",
       "      <td>45.4</td>\n",
       "      <td>319.4</td>\n",
       "      <td>322.4</td>\n",
       "      <td>2.982920</td>\n",
       "      <td>2.299938</td>\n",
       "      <td>-1.899949</td>\n",
       "      <td>0.0</td>\n",
       "    </tr>\n",
       "  </tbody>\n",
       "</table>\n",
       "<p>5 rows × 24 columns</p>\n",
       "</div>"
      ],
      "text/plain": [
       "   id file_name  height  width  video_id  frame_index  \\\n",
       "0   0     0.png    2160   3840         0            0   \n",
       "1   1     1.png    2160   3840         0            1   \n",
       "2   2     2.png    2160   3840         0            2   \n",
       "3   3     3.png    2160   3840         0            3   \n",
       "4   4     4.png    2160   3840         0            4   \n",
       "\n",
       "                    date_time  drone folder_name         video  ...  \\\n",
       "0         2020-08-27T14:18:12  mavic    DJI_0057  DJI_0057.MP4  ...   \n",
       "1         2020-08-27T14:18:12  mavic    DJI_0057  DJI_0057.MP4  ...   \n",
       "2  2020-08-27T14:18:12.033367  mavic    DJI_0057  DJI_0057.MP4  ...   \n",
       "3  2020-08-27T14:18:12.066733  mavic    DJI_0057  DJI_0057.MP4  ...   \n",
       "4  2020-08-27T14:18:12.100100  mavic    DJI_0057  DJI_0057.MP4  ...   \n",
       "\n",
       "   gps_longitude gps_longitude_ref   altitude gimbal_pitch  compass_heading  \\\n",
       "0       9.269907                 E  11.299449         45.4            319.3   \n",
       "1       9.269906                 E  11.299449         45.4            319.4   \n",
       "2       9.269906                 E  11.299449         45.4            319.4   \n",
       "3       9.269906                 E  11.299449         45.4            319.4   \n",
       "4       9.269903                 E  11.199454         45.4            319.4   \n",
       "\n",
       "  gimbal_heading     speed    xspeed    yspeed  zspeed  \n",
       "0          322.4  2.342937  1.799952 -1.499960     0.0  \n",
       "1          322.4  2.701928  2.099944 -1.699954     0.0  \n",
       "2          322.4  2.701928  2.099944 -1.699954     0.0  \n",
       "3          322.4  2.701928  2.099944 -1.699954     0.0  \n",
       "4          322.4  2.982920  2.299938 -1.899949     0.0  \n",
       "\n",
       "[5 rows x 24 columns]"
      ]
     },
     "execution_count": 33,
     "metadata": {},
     "output_type": "execute_result"
    }
   ],
   "source": [
    "# now expand the column 'meta'\n",
    "df_img = pd.concat([df_img.drop(['meta'], axis=1), df_img['meta'].apply(pd.Series)], axis=1)\n",
    "df_img.head()"
   ]
  },
  {
   "cell_type": "code",
   "execution_count": 34,
   "metadata": {},
   "outputs": [
    {
     "name": "stdout",
     "output_type": "stream",
     "text": [
      "<class 'pandas.core.frame.DataFrame'>\n",
      "RangeIndex: 27259 entries, 0 to 27258\n",
      "Data columns (total 24 columns):\n",
      " #   Column             Non-Null Count  Dtype  \n",
      "---  ------             --------------  -----  \n",
      " 0   id                 27259 non-null  int64  \n",
      " 1   file_name          27259 non-null  object \n",
      " 2   height             27259 non-null  int64  \n",
      " 3   width              27259 non-null  int64  \n",
      " 4   video_id           27259 non-null  int64  \n",
      " 5   frame_index        27259 non-null  int64  \n",
      " 6   date_time          27259 non-null  object \n",
      " 7   drone              27259 non-null  object \n",
      " 8   folder_name        27259 non-null  object \n",
      " 9   video              27259 non-null  object \n",
      " 10  frame_no           27259 non-null  int64  \n",
      " 11  date_time          27259 non-null  object \n",
      " 12  gps_latitude       27259 non-null  float64\n",
      " 13  gps_latitude_ref   27259 non-null  object \n",
      " 14  gps_longitude      27259 non-null  float64\n",
      " 15  gps_longitude_ref  27259 non-null  object \n",
      " 16  altitude           27259 non-null  float64\n",
      " 17  gimbal_pitch       27259 non-null  float64\n",
      " 18  compass_heading    27259 non-null  float64\n",
      " 19  gimbal_heading     27259 non-null  float64\n",
      " 20  speed              27259 non-null  float64\n",
      " 21  xspeed             27259 non-null  float64\n",
      " 22  yspeed             27259 non-null  float64\n",
      " 23  zspeed             27259 non-null  float64\n",
      "dtypes: float64(10), int64(6), object(8)\n",
      "memory usage: 5.0+ MB\n"
     ]
    }
   ],
   "source": [
    "# check the type of the columns\n",
    "df_img.info()"
   ]
  },
  {
   "cell_type": "code",
   "execution_count": 35,
   "metadata": {},
   "outputs": [],
   "source": [
    "# save the dataframe as a csv file\n",
    "df_img.to_csv('data/instances_train_swimmer_images.csv', index=False)"
   ]
  },
  {
   "cell_type": "markdown",
   "metadata": {},
   "source": [
    "## Annotations Dataset"
   ]
  },
  {
   "cell_type": "code",
   "execution_count": 38,
   "metadata": {},
   "outputs": [
    {
     "data": {
      "text/html": [
       "<div>\n",
       "<style scoped>\n",
       "    .dataframe tbody tr th:only-of-type {\n",
       "        vertical-align: middle;\n",
       "    }\n",
       "\n",
       "    .dataframe tbody tr th {\n",
       "        vertical-align: top;\n",
       "    }\n",
       "\n",
       "    .dataframe thead th {\n",
       "        text-align: right;\n",
       "    }\n",
       "</style>\n",
       "<table border=\"1\" class=\"dataframe\">\n",
       "  <thead>\n",
       "    <tr style=\"text-align: right;\">\n",
       "      <th></th>\n",
       "      <th>id</th>\n",
       "      <th>image_id</th>\n",
       "      <th>bbox</th>\n",
       "      <th>area</th>\n",
       "      <th>category_id</th>\n",
       "      <th>video_id</th>\n",
       "      <th>track_id</th>\n",
       "    </tr>\n",
       "  </thead>\n",
       "  <tbody>\n",
       "    <tr>\n",
       "      <th>0</th>\n",
       "      <td>0</td>\n",
       "      <td>0</td>\n",
       "      <td>[1783, 1079, 186, 249]</td>\n",
       "      <td>46314</td>\n",
       "      <td>2</td>\n",
       "      <td>0</td>\n",
       "      <td>0</td>\n",
       "    </tr>\n",
       "    <tr>\n",
       "      <th>1</th>\n",
       "      <td>1</td>\n",
       "      <td>0</td>\n",
       "      <td>[1547, 694, 271, 175]</td>\n",
       "      <td>47425</td>\n",
       "      <td>2</td>\n",
       "      <td>0</td>\n",
       "      <td>1</td>\n",
       "    </tr>\n",
       "    <tr>\n",
       "      <th>2</th>\n",
       "      <td>2</td>\n",
       "      <td>0</td>\n",
       "      <td>[1811, 367, 129, 162]</td>\n",
       "      <td>20898</td>\n",
       "      <td>2</td>\n",
       "      <td>0</td>\n",
       "      <td>2</td>\n",
       "    </tr>\n",
       "    <tr>\n",
       "      <th>3</th>\n",
       "      <td>3</td>\n",
       "      <td>0</td>\n",
       "      <td>[1588, 360, 122, 229]</td>\n",
       "      <td>27938</td>\n",
       "      <td>1</td>\n",
       "      <td>0</td>\n",
       "      <td>3</td>\n",
       "    </tr>\n",
       "    <tr>\n",
       "      <th>4</th>\n",
       "      <td>4</td>\n",
       "      <td>0</td>\n",
       "      <td>[3386, 75, 221, 82]</td>\n",
       "      <td>18122</td>\n",
       "      <td>2</td>\n",
       "      <td>0</td>\n",
       "      <td>4</td>\n",
       "    </tr>\n",
       "  </tbody>\n",
       "</table>\n",
       "</div>"
      ],
      "text/plain": [
       "   id  image_id                    bbox   area  category_id  video_id  \\\n",
       "0   0         0  [1783, 1079, 186, 249]  46314            2         0   \n",
       "1   1         0   [1547, 694, 271, 175]  47425            2         0   \n",
       "2   2         0   [1811, 367, 129, 162]  20898            2         0   \n",
       "3   3         0   [1588, 360, 122, 229]  27938            1         0   \n",
       "4   4         0     [3386, 75, 221, 82]  18122            2         0   \n",
       "\n",
       "   track_id  \n",
       "0         0  \n",
       "1         1  \n",
       "2         2  \n",
       "3         3  \n",
       "4         4  "
      ]
     },
     "execution_count": 38,
     "metadata": {},
     "output_type": "execute_result"
    }
   ],
   "source": [
    "# create a pandas dataframe from the json key 'annotations'\n",
    "df_ann = pd.DataFrame(json_data['annotations'])\n",
    "df_ann.head()"
   ]
  },
  {
   "cell_type": "code",
   "execution_count": 39,
   "metadata": {},
   "outputs": [
    {
     "data": {
      "text/html": [
       "<div>\n",
       "<style scoped>\n",
       "    .dataframe tbody tr th:only-of-type {\n",
       "        vertical-align: middle;\n",
       "    }\n",
       "\n",
       "    .dataframe tbody tr th {\n",
       "        vertical-align: top;\n",
       "    }\n",
       "\n",
       "    .dataframe thead th {\n",
       "        text-align: right;\n",
       "    }\n",
       "</style>\n",
       "<table border=\"1\" class=\"dataframe\">\n",
       "  <thead>\n",
       "    <tr style=\"text-align: right;\">\n",
       "      <th></th>\n",
       "      <th>id</th>\n",
       "      <th>image_id</th>\n",
       "      <th>area</th>\n",
       "      <th>category_id</th>\n",
       "      <th>video_id</th>\n",
       "      <th>track_id</th>\n",
       "      <th>bbox_x</th>\n",
       "      <th>bbox_y</th>\n",
       "      <th>bbox_w</th>\n",
       "      <th>bbox_h</th>\n",
       "    </tr>\n",
       "  </thead>\n",
       "  <tbody>\n",
       "    <tr>\n",
       "      <th>0</th>\n",
       "      <td>0</td>\n",
       "      <td>0</td>\n",
       "      <td>46314</td>\n",
       "      <td>2</td>\n",
       "      <td>0</td>\n",
       "      <td>0</td>\n",
       "      <td>1783</td>\n",
       "      <td>1079</td>\n",
       "      <td>186</td>\n",
       "      <td>249</td>\n",
       "    </tr>\n",
       "    <tr>\n",
       "      <th>1</th>\n",
       "      <td>1</td>\n",
       "      <td>0</td>\n",
       "      <td>47425</td>\n",
       "      <td>2</td>\n",
       "      <td>0</td>\n",
       "      <td>1</td>\n",
       "      <td>1547</td>\n",
       "      <td>694</td>\n",
       "      <td>271</td>\n",
       "      <td>175</td>\n",
       "    </tr>\n",
       "    <tr>\n",
       "      <th>2</th>\n",
       "      <td>2</td>\n",
       "      <td>0</td>\n",
       "      <td>20898</td>\n",
       "      <td>2</td>\n",
       "      <td>0</td>\n",
       "      <td>2</td>\n",
       "      <td>1811</td>\n",
       "      <td>367</td>\n",
       "      <td>129</td>\n",
       "      <td>162</td>\n",
       "    </tr>\n",
       "    <tr>\n",
       "      <th>3</th>\n",
       "      <td>3</td>\n",
       "      <td>0</td>\n",
       "      <td>27938</td>\n",
       "      <td>1</td>\n",
       "      <td>0</td>\n",
       "      <td>3</td>\n",
       "      <td>1588</td>\n",
       "      <td>360</td>\n",
       "      <td>122</td>\n",
       "      <td>229</td>\n",
       "    </tr>\n",
       "    <tr>\n",
       "      <th>4</th>\n",
       "      <td>4</td>\n",
       "      <td>0</td>\n",
       "      <td>18122</td>\n",
       "      <td>2</td>\n",
       "      <td>0</td>\n",
       "      <td>4</td>\n",
       "      <td>3386</td>\n",
       "      <td>75</td>\n",
       "      <td>221</td>\n",
       "      <td>82</td>\n",
       "    </tr>\n",
       "  </tbody>\n",
       "</table>\n",
       "</div>"
      ],
      "text/plain": [
       "   id  image_id   area  category_id  video_id  track_id  bbox_x  bbox_y  \\\n",
       "0   0         0  46314            2         0         0    1783    1079   \n",
       "1   1         0  47425            2         0         1    1547     694   \n",
       "2   2         0  20898            2         0         2    1811     367   \n",
       "3   3         0  27938            1         0         3    1588     360   \n",
       "4   4         0  18122            2         0         4    3386      75   \n",
       "\n",
       "   bbox_w  bbox_h  \n",
       "0     186     249  \n",
       "1     271     175  \n",
       "2     129     162  \n",
       "3     122     229  \n",
       "4     221      82  "
      ]
     },
     "execution_count": 39,
     "metadata": {},
     "output_type": "execute_result"
    }
   ],
   "source": [
    "# now expand the column 'bbox' (it's a list\n",
    "df_ann = pd.concat([df_ann.drop(['bbox'], axis=1), df_ann['bbox'].apply(pd.Series)], axis=1)\n",
    "df_ann.rename(columns={0: 'bbox_x', 1: 'bbox_y', 2: 'bbox_w', 3: 'bbox_h'}, inplace=True)\n",
    "df_ann.head()"
   ]
  },
  {
   "cell_type": "code",
   "execution_count": 40,
   "metadata": {},
   "outputs": [
    {
     "name": "stdout",
     "output_type": "stream",
     "text": [
      "<class 'pandas.core.frame.DataFrame'>\n",
      "RangeIndex: 91357 entries, 0 to 91356\n",
      "Data columns (total 10 columns):\n",
      " #   Column       Non-Null Count  Dtype\n",
      "---  ------       --------------  -----\n",
      " 0   id           91357 non-null  int64\n",
      " 1   image_id     91357 non-null  int64\n",
      " 2   area         91357 non-null  int64\n",
      " 3   category_id  91357 non-null  int64\n",
      " 4   video_id     91357 non-null  int64\n",
      " 5   track_id     91357 non-null  int64\n",
      " 6   bbox_x       91357 non-null  int64\n",
      " 7   bbox_y       91357 non-null  int64\n",
      " 8   bbox_w       91357 non-null  int64\n",
      " 9   bbox_h       91357 non-null  int64\n",
      "dtypes: int64(10)\n",
      "memory usage: 7.0 MB\n"
     ]
    }
   ],
   "source": [
    "# check the type of the columns\n",
    "df_ann.info()"
   ]
  },
  {
   "cell_type": "code",
   "execution_count": null,
   "metadata": {},
   "outputs": [],
   "source": [
    "# save the dataframe as a csv file\n",
    "df_ann.to_csv('data/instances_train_swimmer_annotations.csv', index=False)"
   ]
  }
 ],
 "metadata": {
  "kernelspec": {
   "display_name": "ai-env",
   "language": "python",
   "name": "python3"
  },
  "language_info": {
   "codemirror_mode": {
    "name": "ipython",
    "version": 3
   },
   "file_extension": ".py",
   "mimetype": "text/x-python",
   "name": "python",
   "nbconvert_exporter": "python",
   "pygments_lexer": "ipython3",
   "version": "3.9.13"
  },
  "orig_nbformat": 4
 },
 "nbformat": 4,
 "nbformat_minor": 2
}
