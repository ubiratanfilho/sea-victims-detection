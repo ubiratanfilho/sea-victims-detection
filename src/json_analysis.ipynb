{
 "cells": [
  {
   "cell_type": "code",
   "execution_count": 2,
   "metadata": {},
   "outputs": [],
   "source": [
    "import json\n",
    "import pandas as pd"
   ]
  },
  {
   "cell_type": "code",
   "execution_count": 3,
   "metadata": {},
   "outputs": [
    {
     "data": {
      "text/plain": [
       "dict_keys(['info', 'licenses', 'categories', 'images', 'annotations'])"
      ]
     },
     "execution_count": 3,
     "metadata": {},
     "output_type": "execute_result"
    }
   ],
   "source": [
    "path = '../data/compressed/annotations/instances_train.json'\n",
    "\n",
    "with open(path) as json_file:\n",
    "    json_data = json.load(json_file)\n",
    "\n",
    "json_data.keys()"
   ]
  },
  {
   "cell_type": "code",
   "execution_count": 4,
   "metadata": {},
   "outputs": [
    {
     "data": {
      "text/plain": [
       "{'year': '2022',\n",
       " 'version': '2',\n",
       " 'description': '',\n",
       " 'contributor': '',\n",
       " 'url': 'localhost',\n",
       " 'date_created': '2022-08-15T15:17:20.683314'}"
      ]
     },
     "execution_count": 4,
     "metadata": {},
     "output_type": "execute_result"
    }
   ],
   "source": [
    "json_data['info']"
   ]
  },
  {
   "cell_type": "code",
   "execution_count": 5,
   "metadata": {},
   "outputs": [
    {
     "data": {
      "text/plain": [
       "[{'id': 1, 'url': '', 'name': 'Unknown'}]"
      ]
     },
     "execution_count": 5,
     "metadata": {},
     "output_type": "execute_result"
    }
   ],
   "source": [
    "json_data['licenses']"
   ]
  },
  {
   "cell_type": "code",
   "execution_count": 6,
   "metadata": {},
   "outputs": [
    {
     "data": {
      "text/plain": [
       "[{'supercategory': 'ignored', 'id': 0, 'name': 'ignored'},\n",
       " {'supercategory': 'person', 'id': 1, 'name': 'swimmer'},\n",
       " {'supercategory': 'boat', 'id': 2, 'name': 'boat'},\n",
       " {'supercategory': 'boat', 'id': 3, 'name': 'jetski'},\n",
       " {'supercategory': 'object', 'id': 4, 'name': 'life_saving_appliances'},\n",
       " {'supercategory': 'object', 'id': 5, 'name': 'buoy'}]"
      ]
     },
     "execution_count": 6,
     "metadata": {},
     "output_type": "execute_result"
    }
   ],
   "source": [
    "json_data['categories']"
   ]
  },
  {
   "cell_type": "code",
   "execution_count": 7,
   "metadata": {},
   "outputs": [
    {
     "data": {
      "text/plain": [
       "{'id': 3388,\n",
       " 'file_name': '3388.jpg',\n",
       " 'height': 2160,\n",
       " 'width': 3840,\n",
       " 'source': {'drone': 'mavic',\n",
       "  'folder_name': 'DJI_0032',\n",
       "  'video': 'DJI_0032.MP4',\n",
       "  'frame_no': 0},\n",
       " 'date_time': '2020-08-25T14:16:21',\n",
       " 'meta': {'image_name': 'DJI_0032_merged.MP4_image0.png',\n",
       "  'datetime(utc)': '2020-08-25 12:16:22',\n",
       "  'latitude': 47.673596,\n",
       "  'longitude': 9.270249,\n",
       "  'height_above_takeoff(meter)': 9.699526973483694,\n",
       "  'speed(m/s)': 0.0,\n",
       "  'xspeed(m/s)': 0.0,\n",
       "  'yspeed(m/s)': 0.0,\n",
       "  'zspeed(m/s)': 0.0,\n",
       "  'compass_heading(degrees)': 175.8,\n",
       "  'gimbal_heading(degrees)': 154.4,\n",
       "  'gimbal_pitch(degrees)': -2.5}}"
      ]
     },
     "execution_count": 7,
     "metadata": {},
     "output_type": "execute_result"
    }
   ],
   "source": [
    "json_data['images'][0]"
   ]
  },
  {
   "cell_type": "code",
   "execution_count": 8,
   "metadata": {},
   "outputs": [
    {
     "data": {
      "text/plain": [
       "{'id': 14579,\n",
       " 'image_id': 3388,\n",
       " 'bbox': [3619, 1409, 75, 38],\n",
       " 'area': 2850,\n",
       " 'category_id': 2}"
      ]
     },
     "execution_count": 8,
     "metadata": {},
     "output_type": "execute_result"
    }
   ],
   "source": [
    "json_data['annotations'][0]"
   ]
  },
  {
   "cell_type": "code",
   "execution_count": 9,
   "metadata": {},
   "outputs": [
    {
     "data": {
      "text/plain": [
       "8930"
      ]
     },
     "execution_count": 9,
     "metadata": {},
     "output_type": "execute_result"
    }
   ],
   "source": [
    "# get the number of unique image_id in annotations\n",
    "len(set([x['image_id'] for x in json_data['annotations']]))\n"
   ]
  }
 ],
 "metadata": {
  "kernelspec": {
   "display_name": "base",
   "language": "python",
   "name": "python3"
  },
  "language_info": {
   "codemirror_mode": {
    "name": "ipython",
    "version": 3
   },
   "file_extension": ".py",
   "mimetype": "text/x-python",
   "name": "python",
   "nbconvert_exporter": "python",
   "pygments_lexer": "ipython3",
   "version": "3.11.3"
  },
  "orig_nbformat": 4
 },
 "nbformat": 4,
 "nbformat_minor": 2
}
